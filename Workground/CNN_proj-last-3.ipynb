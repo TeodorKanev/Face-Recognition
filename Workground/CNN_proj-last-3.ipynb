{
 "cells": [
  {
   "cell_type": "code",
   "execution_count": null,
   "metadata": {},
   "outputs": [],
   "source": [
    "import os\n",
    "import matplotlib.pyplot as plt \n",
    "import matplotlib.patches as patches\n",
    "import numpy as np\n",
    "from skimage import color\n",
    "from skimage import io\n",
    "import pandas as pd\n",
    "from PIL import Image\n",
    "import collections\n",
    "import cv2"
   ]
  },
  {
   "cell_type": "code",
   "execution_count": null,
   "metadata": {},
   "outputs": [],
   "source": [
    "def rgb2gray(rgb):\n",
    "    return np.dot(rgb[...,:3], [0.299, 0.587, 0.144])"
   ]
  },
  {
   "cell_type": "code",
   "execution_count": null,
   "metadata": {},
   "outputs": [],
   "source": [
    "def to_index(name):\n",
    "    return int(name[:6])"
   ]
  },
  {
   "cell_type": "code",
   "execution_count": null,
   "metadata": {},
   "outputs": [],
   "source": [
    "def to_name(index):\n",
    "    name = ''\n",
    "    for i in range(6 - len(str(index))):\n",
    "        name += '0'\n",
    "    name = name + str(index) + '.jpg'\n",
    "    return name"
   ]
  },
  {
   "cell_type": "code",
   "execution_count": null,
   "metadata": {},
   "outputs": [],
   "source": [
    "def load_images_from_folder(folder):\n",
    "    images = {}\n",
    "    sizes = {}\n",
    "    for filename in os.listdir(folder):\n",
    "        img = Image.open(os.path.join(folder,filename))\n",
    "        if img is not None: \n",
    "            sizes[to_index(filename)] = img.size  \n",
    "            new_img = img.resize((128,128), Image.ANTIALIAS)\n",
    "            temp = rgb2gray(np.array(new_img))\n",
    "            images[to_index(filename)] = temp   \n",
    "    return images, sizes"
   ]
  },
  {
   "cell_type": "code",
   "execution_count": null,
   "metadata": {},
   "outputs": [],
   "source": [
    "def load_rgb_images_from_folder(folder):\n",
    "    images = {}\n",
    "    sizes = {}\n",
    "    for filename in os.listdir(folder):\n",
    "        img = Image.open(os.path.join(folder,filename))\n",
    "        if img is not None: \n",
    "            sizes[to_index(filename)] = img.size  \n",
    "            new_img = img.resize((128,128), Image.ANTIALIAS)\n",
    "            images[to_index(filename)] = new_img   \n",
    "    return images, sizes"
   ]
  },
  {
   "cell_type": "code",
   "execution_count": null,
   "metadata": {},
   "outputs": [],
   "source": [
    "def change_bbox(name, old_w, old_h, df):\n",
    "    df.at[to_index(name)-1, 'x_1'] *= (128/old_w)\n",
    "    df.at[to_index(name)-1, 'y_1'] *= (128/old_h)\n",
    "    df.at[to_index(name)-1, 'width'] *= (128/old_w)\n",
    "    df.at[to_index(name)-1, 'height'] *= (128/old_h)"
   ]
  },
  {
   "cell_type": "code",
   "execution_count": null,
   "metadata": {},
   "outputs": [],
   "source": [
    "folder_name = '../../Data/5000/'\n",
    "train_imgs, old_sizes= load_images_from_folder(folder_name)"
   ]
  },
  {
   "cell_type": "code",
   "execution_count": null,
   "metadata": {},
   "outputs": [],
   "source": [
    "folder_name = '../../Data/5000/'\n",
    "train_imgs, old_sizes= load_rgb_images_from_folder(folder_name)"
   ]
  },
  {
   "cell_type": "code",
   "execution_count": null,
   "metadata": {},
   "outputs": [],
   "source": [
    "od = collections.OrderedDict(sorted(train_imgs.items())) #ordered dict"
   ]
  },
  {
   "cell_type": "code",
   "execution_count": null,
   "metadata": {},
   "outputs": [],
   "source": [
    "df = pd.read_csv('../../Data/list_bbox_celeba.csv')"
   ]
  },
  {
   "cell_type": "code",
   "execution_count": null,
   "metadata": {},
   "outputs": [],
   "source": [
    "for i in od.keys():\n",
    "    img_number = i\n",
    "    change_bbox(to_name(img_number), old_sizes[img_number][0], old_sizes[img_number][1], df)"
   ]
  },
  {
   "cell_type": "code",
   "execution_count": null,
   "metadata": {},
   "outputs": [],
   "source": [
    "tst = []\n",
    "for i in range(1,4977):\n",
    "    tst.append(np.array(od[i]))"
   ]
  },
  {
   "cell_type": "code",
   "execution_count": null,
   "metadata": {},
   "outputs": [],
   "source": [
    "X_train = np.array(tst[:4000])\n",
    "X_val = np.array(tst[4000:4500])\n",
    "X_test = np.array(tst[4500:])\n",
    "Y_train = np.array(df.drop(columns=['image_id'],axis = 1)[:4000])\n",
    "Y_val = np.array(df.drop(columns=['image_id'],axis = 1)[4000:4500])\n",
    "Y_test = np.array(df.drop(columns=['image_id'],axis = 1)[4500:5000])"
   ]
  },
  {
   "cell_type": "code",
   "execution_count": null,
   "metadata": {},
   "outputs": [],
   "source": [
    "import tensorflow as tf\n",
    "from tensorflow import keras\n",
    "from tensorflow.keras import layers"
   ]
  },
  {
   "cell_type": "code",
   "execution_count": null,
   "metadata": {},
   "outputs": [],
   "source": [
    "model = keras.Sequential()\n",
    "model.add(keras.Input(shape=(128, 128, 3)))\n",
    "model.add(layers.Conv2D(32, kernel_size=(3, 3), strides=(1, 1), padding=\"valid\"))\n",
    "model.add(layers.PReLU(shared_axes=[1, 2]))\n",
    "model.add(layers.MaxPooling2D(pool_size=(3, 3), strides=(2, 2), padding=\"same\"))\n",
    "\n",
    "model.summary()\n",
    "\n",
    "model.add(layers.Conv2D(64, kernel_size=(3, 3), strides=(1, 1), padding=\"valid\"))\n",
    "model.add(layers.PReLU(shared_axes=[1, 2]))\n",
    "model.add(layers.MaxPooling2D(pool_size=(3, 3), strides=(2, 2), padding=\"valid\"))\n",
    "\n",
    "model.add(layers.Conv2D(64, kernel_size=(3, 3), strides=(1, 1), padding=\"valid\"))\n",
    "model.add(layers.PReLU(shared_axes=[1, 2]))\n",
    "model.add(layers.MaxPooling2D(pool_size=(2, 2), strides=(2, 2), padding=\"same\"))\n",
    "\n",
    "model.add(layers.GlobalMaxPooling2D())\n",
    "\n",
    "model.add(layers.Dense(4))\n",
    "model.compile('adadelta', loss=custom_loss)"
   ]
  },
  {
   "cell_type": "code",
   "execution_count": null,
   "metadata": {},
   "outputs": [],
   "source": [
    "from tensorflow.keras.models import Sequential\n",
    "from tensorflow.keras.layers import Dense, Activation, Dropout\n",
    "from tensorflow.keras.optimizers import SGD\n",
    "model = Sequential([\n",
    "        Dense(200, input_dim=X_train.shape[-1]), \n",
    "        Activation('relu'), \n",
    "        Dropout(0.2), \n",
    "        Dense(Y_train.shape[-1])\n",
    "    ])\n",
    "model.compile('adadelta', 'mse')"
   ]
  },
  {
   "cell_type": "code",
   "execution_count": null,
   "metadata": {
    "scrolled": true
   },
   "outputs": [],
   "source": [
    "model.fit(X_train, Y_train, epochs=10, validation_data=(X_val, Y_val), verbose=2)"
   ]
  },
  {
   "cell_type": "code",
   "execution_count": null,
   "metadata": {},
   "outputs": [],
   "source": [
    "def custom_loss(bbox1, bbox2):\n",
    "    '''Calculate overlap between two bounding boxes [x, y, w, h] as the area of intersection over the area of unity'''\n",
    "    x1, y1, w1, h1 = bbox1[0], bbox1[1], bbox1[2], bbox1[3]\n",
    "    x2, y2, w2, h2 = bbox2[0], bbox2[1], bbox2[2], bbox2[3]\n",
    "\n",
    "    w_I = min(x1 + w1, x2 + w2) - max(x1, x2)\n",
    "    h_I = min(y1 + h1, y2 + h2) - max(y1, y2)\n",
    "    if w_I <= 0 or h_I <= 0:  # no overlap\n",
    "        return tf.summary.scalar('name', 1, step=None, description=None)\n",
    "\n",
    "    I = w_I * h_I\n",
    "\n",
    "    U = w1 * h1 + w2 * h2 - I\n",
    "\n",
    "    return tf.summary.scalar('name', 1 - I / U, step=None, description=None)\n"
   ]
  },
  {
   "cell_type": "code",
   "execution_count": null,
   "metadata": {},
   "outputs": [],
   "source": [
    "def IOU(bbox1, bbox2):\n",
    "    '''Calculate overlap between two bounding boxes [x, y, w, h] as the area of intersection over the area of unity'''\n",
    "    x1, y1, w1, h1 = bbox1[0], bbox1[1], bbox1[2], bbox1[3]\n",
    "    x2, y2, w2, h2 = bbox2[0], bbox2[1], bbox2[2], bbox2[3]\n",
    "\n",
    "    w_I = min(x1 + w1, x2 + w2) - max(x1, x2)\n",
    "    h_I = min(y1 + h1, y2 + h2) - max(y1, y2)\n",
    "    if w_I <= 0 or h_I <= 0:  # no overlap\n",
    "        return 0.\n",
    "    I = w_I * h_I\n",
    "\n",
    "    U = w1 * h1 + w2 * h2 - I\n",
    "\n",
    "    return I / U"
   ]
  }
 ],
 "metadata": {
  "kernelspec": {
   "display_name": "Python 3",
   "language": "python",
   "name": "python3"
  },
  "language_info": {
   "codemirror_mode": {
    "name": "ipython",
    "version": 3
   },
   "file_extension": ".py",
   "mimetype": "text/x-python",
   "name": "python",
   "nbconvert_exporter": "python",
   "pygments_lexer": "ipython3",
   "version": "3.7.7"
  }
 },
 "nbformat": 4,
 "nbformat_minor": 4
}
